{
 "cells": [
  {
   "cell_type": "code",
   "execution_count": null,
   "id": "27a61256-82b6-4b98-9bed-34bcfdb8e98d",
   "metadata": {},
   "outputs": [],
   "source": [
    "import pandas as pd \n",
    "import pennylane.numpy as np \n",
    "import pennylane as qml \n",
    "\n",
    "\n",
    "from silence_tensorflow import silence_tensorflow \n",
    "silence_tensorflow() \n",
    "import tensorflow as tf \n",
    "\n",
    "from tensorflow.keras.models import Sequential \n",
    "from tensorflow.keras.layers import Dense, Activation\n",
    "from tensorflow.keras import optimizers\n",
    "from tensorflow.keras import activations\n",
    "from tensorflow.keras.callbacks import EarlyStopping\n",
    "from tensorflow.keras.callbacks import ReduceLROnPlateau\n",
    "from sklearn.model_selection import train_test_split\n",
    "from sklearn.preprocessing import StandardScaler, MinMaxScaler"
   ]
  },
  {
   "cell_type": "code",
   "execution_count": null,
   "id": "cbddcd74-1672-4727-92f7-d8c64c8a859b",
   "metadata": {},
   "outputs": [
    {
     "name": "stdout",
     "output_type": "stream",
     "text": [
      "Len(Train): 361\n",
      "Len(Test): 5\n"
     ]
    }
   ],
   "source": [
    "dataframe = pd.read_csv(r'vento.csv')\n",
    "dataset = dataframe.values\n",
    "\n",
    "\n",
    "X=dataset[:,3:]\n",
    "Y=dataset[:,2:3]\n",
    "\n",
    "scaler = MinMaxScaler()\n",
    "StdScaler=scaler.fit(X)\n",
    "X=scaler.transform(X)\n",
    "\n",
    "scaler = MinMaxScaler()\n",
    "StdScaler2=scaler.fit(Y)\n",
    "Y=scaler.transform(Y)\n",
    "\n",
    "months = len(Y)\n",
    "TRAIN_TEST_SPLIT = 0.987\n",
    "\n",
    "split = split = int(months * TRAIN_TEST_SPLIT)\n",
    "TrainX = X[0:split]\n",
    "TestX = X[split:]\n",
    "\n",
    "TrainY = Y[0:split]\n",
    "TestY = Y[split:]\n",
    "\n",
    "\n",
    "print(\"Len(Train):\",len(TrainX))\n",
    "print(\"Len(Test):\",len(TestX))"
   ]
  },
  {
   "cell_type": "code",
   "execution_count": null,
   "id": "f4bf580c-37a0-48a3-97a5-8618b7b43b6b",
   "metadata": {},
   "outputs": [],
   "source": [
    "def H_layer(n_qubits):\n",
    "    for idx in range(n_qubits):\n",
    "        qml.Hadamard(wires=idx)\n",
    "\n",
    "def Data_AngleEmbedding_layer(inputs):\n",
    "    qml.templates.AngleEmbedding(inputs,rotation='Y', wires=range(n_qubits))\n",
    "\n",
    "def RY_layer(w):\n",
    "    print(w.shape)\n",
    "    for idx, element in enumerate(w):\n",
    "        qml.RY(element, wires=idx)\n",
    "\n",
    "def ROT_layer(w):\n",
    "    for i in range(n_qubits):\n",
    "        qml.Rot(*w[i],wires=i)\n",
    "    \n",
    "def entangling_layer(nqubits):\n",
    "    for i in range(0, nqubits - 1, 2): \n",
    "        qml.CNOT(wires=[i, i + 1])\n",
    "    for i in range(1, nqubits - 1, 2):  \n",
    "        qml.CNOT(wires=[i, i + 1])"
   ]
  },
  {
   "cell_type": "code",
   "execution_count": 4,
   "id": "b27f73f6-fd74-4535-af8c-2ec1e66b0872",
   "metadata": {},
   "outputs": [],
   "source": [
    "n_qubits = 8\n",
    "n_layers = 1\n",
    "\n",
    "dev = qml.device('default.qubit', wires=n_qubits)\n",
    "@qml.qnode(dev)\n",
    "def qnode(inputs, weights_1):\n",
    "    H_layer(n_qubits)\n",
    "    Data_AngleEmbedding_layer(inputs)\n",
    "    for k in range(n_layers):\n",
    "        entangling_layer(n_qubits)\n",
    "        ROT_layer(weights_1[k])\n",
    "    return [qml.expval(qml.PauliZ(wires=i)) for i in range(n_qubits)]"
   ]
  },
  {
   "cell_type": "code",
   "execution_count": 5,
   "id": "c2e3ed04-d20e-443f-95af-89449cf0b2d8",
   "metadata": {},
   "outputs": [],
   "source": [
    "weight_shapes = {\"weights_1\": (n_layers,n_qubits,3)}\n",
    "qlayer = qml.qnn.KerasLayer(qnode, weight_shapes, output_dim=n_qubits)\n",
    "Activation=tf.keras.layers.Activation(activations.linear)\n",
    "clayer_2 = tf.keras.layers.Dense(1,kernel_initializer='normal')\n",
    "model = tf.keras.models.Sequential([qlayer,Activation, clayer_2])\n",
    "opt = tf.keras.optimizers.Adam(learning_rate=0.1)\n",
    "model.compile(opt, loss=\"mae\")"
   ]
  },
  {
   "cell_type": "code",
   "execution_count": null,
   "id": "389970c3-cd97-45c7-ba78-fe085c27e337",
   "metadata": {},
   "outputs": [
    {
     "name": "stdout",
     "output_type": "stream",
     "text": [
      "Epoch 1/30\n",
      "33/33 [==============================] - 9s 237ms/step - loss: 0.1263 - val_loss: 0.1730 - lr: 0.1000\n",
      "Epoch 2/30\n",
      "33/33 [==============================] - 8s 237ms/step - loss: 0.0738 - val_loss: 0.0664 - lr: 0.1000\n",
      "Epoch 3/30\n",
      "33/33 [==============================] - 8s 232ms/step - loss: 0.0568 - val_loss: 0.0500 - lr: 0.1000\n",
      "Epoch 4/30\n",
      "33/33 [==============================] - 8s 230ms/step - loss: 0.0455 - val_loss: 0.0455 - lr: 0.1000\n",
      "Epoch 5/30\n",
      "33/33 [==============================] - 8s 229ms/step - loss: 0.0496 - val_loss: 0.0401 - lr: 0.1000\n",
      "Epoch 6/30\n",
      "33/33 [==============================] - 8s 230ms/step - loss: 0.0504 - val_loss: 0.0479 - lr: 0.1000\n",
      "Epoch 7/30\n",
      "33/33 [==============================] - 8s 231ms/step - loss: 0.0607 - val_loss: 0.0414 - lr: 0.1000\n",
      "Epoch 8/30\n",
      "33/33 [==============================] - ETA: 0s - loss: 0.0457\n",
      "Epoch 8: ReduceLROnPlateau reducing learning rate to 0.010000000149011612.\n",
      "33/33 [==============================] - 8s 231ms/step - loss: 0.0457 - val_loss: 0.0502 - lr: 0.1000\n",
      "Epoch 9/30\n",
      "33/33 [==============================] - 8s 231ms/step - loss: 0.0409 - val_loss: 0.0434 - lr: 0.0100\n",
      "Epoch 10/30\n",
      "33/33 [==============================] - 8s 230ms/step - loss: 0.0393 - val_loss: 0.0386 - lr: 0.0100\n",
      "Epoch 11/30\n",
      "33/33 [==============================] - 8s 229ms/step - loss: 0.0380 - val_loss: 0.0373 - lr: 0.0100\n",
      "Epoch 12/30\n",
      "33/33 [==============================] - 8s 228ms/step - loss: 0.0380 - val_loss: 0.0374 - lr: 0.0100\n",
      "Epoch 13/30\n",
      "33/33 [==============================] - 8s 228ms/step - loss: 0.0383 - val_loss: 0.0364 - lr: 0.0100\n",
      "Epoch 14/30\n",
      "33/33 [==============================] - 8s 230ms/step - loss: 0.0379 - val_loss: 0.0402 - lr: 0.0100\n",
      "Epoch 15/30\n",
      "33/33 [==============================] - 8s 230ms/step - loss: 0.0392 - val_loss: 0.0359 - lr: 0.0100\n",
      "Epoch 16/30\n",
      "33/33 [==============================] - 8s 230ms/step - loss: 0.0376 - val_loss: 0.0365 - lr: 0.0100\n",
      "Epoch 17/30\n",
      "33/33 [==============================] - 8s 229ms/step - loss: 0.0373 - val_loss: 0.0357 - lr: 0.0100\n",
      "Epoch 18/30\n",
      "33/33 [==============================] - 7s 227ms/step - loss: 0.0371 - val_loss: 0.0371 - lr: 0.0100\n",
      "Epoch 19/30\n",
      "33/33 [==============================] - 8s 229ms/step - loss: 0.0382 - val_loss: 0.0365 - lr: 0.0100\n",
      "Epoch 20/30\n",
      "33/33 [==============================] - ETA: 0s - loss: 0.0376\n",
      "Epoch 20: ReduceLROnPlateau reducing learning rate to 0.0009999999776482583.\n",
      "33/33 [==============================] - 8s 230ms/step - loss: 0.0376 - val_loss: 0.0359 - lr: 0.0100\n",
      "Epoch 21/30\n",
      "33/33 [==============================] - 8s 230ms/step - loss: 0.0366 - val_loss: 0.0356 - lr: 1.0000e-03\n",
      "Epoch 22/30\n",
      "33/33 [==============================] - 7s 227ms/step - loss: 0.0365 - val_loss: 0.0356 - lr: 1.0000e-03\n",
      "Epoch 23/30\n",
      "33/33 [==============================] - 8s 229ms/step - loss: 0.0365 - val_loss: 0.0357 - lr: 1.0000e-03\n",
      "Epoch 24/30\n",
      "33/33 [==============================] - ETA: 0s - loss: 0.0364\n",
      "Epoch 24: ReduceLROnPlateau reducing learning rate to 9.999999310821295e-05.\n",
      "33/33 [==============================] - 7s 227ms/step - loss: 0.0364 - val_loss: 0.0355 - lr: 1.0000e-03\n",
      "Epoch 25/30\n",
      "33/33 [==============================] - 8s 228ms/step - loss: 0.0362 - val_loss: 0.0355 - lr: 1.0000e-04\n",
      "Epoch 26/30\n",
      "33/33 [==============================] - 8s 228ms/step - loss: 0.0362 - val_loss: 0.0355 - lr: 1.0000e-04\n",
      "Epoch 27/30\n",
      "33/33 [==============================] - ETA: 0s - loss: 0.0362\n",
      "Epoch 27: ReduceLROnPlateau reducing learning rate to 1e-05.\n",
      "33/33 [==============================] - 7s 227ms/step - loss: 0.0362 - val_loss: 0.0355 - lr: 1.0000e-04\n",
      "Epoch 28/30\n",
      "33/33 [==============================] - 8s 228ms/step - loss: 0.0362 - val_loss: 0.0355 - lr: 1.0000e-05\n",
      "Epoch 29/30\n",
      "33/33 [==============================] - 8s 228ms/step - loss: 0.0362 - val_loss: 0.0355 - lr: 1.0000e-05\n",
      "Epoch 30/30\n",
      "33/33 [==============================] - 8s 228ms/step - loss: 0.0362 - val_loss: 0.0355 - lr: 1.0000e-05\n"
     ]
    }
   ],
   "source": [
    "es=EarlyStopping(monitor='val_loss', min_delta=0, patience=6, verbose=1, mode='auto', baseline=None, restore_best_weights=True)\n",
    "re=ReduceLROnPlateau(monitor='val_loss', factor=0.1, patience=3, verbose=1, mode='min', min_lr=0.00001)\n",
    "fitting = model.fit(TrainX, TrainY, epochs=30, batch_size=10, validation_split=0.1, callbacks=[re], verbose=1)"
   ]
  },
  {
   "cell_type": "code",
   "execution_count": 7,
   "id": "dede62fc-d7ce-46e7-bbc0-40aa10ce873a",
   "metadata": {},
   "outputs": [
    {
     "name": "stdout",
     "output_type": "stream",
     "text": [
      "1/1 [==============================] - 0s 157ms/step\n"
     ]
    }
   ],
   "source": [
    "y_predict=model.predict(TestX,verbose=1)\n",
    "y_predict=y_predict.T\n",
    "y_predict=y_predict[0]"
   ]
  },
  {
   "cell_type": "code",
   "execution_count": 8,
   "id": "c6be621b-d828-484f-9b95-a8f007c4eb0f",
   "metadata": {},
   "outputs": [],
   "source": [
    "newTestY = scaler.inverse_transform(TestY)\n",
    "newy_predict = scaler.inverse_transform(y_predict.reshape(-1, 1))"
   ]
  },
  {
   "cell_type": "code",
   "execution_count": 9,
   "id": "56984318-27cc-4979-a48d-322f27ab8744",
   "metadata": {},
   "outputs": [
    {
     "name": "stdout",
     "output_type": "stream",
     "text": [
      "Mean Absolute Error: 0.15651177787780757\n"
     ]
    }
   ],
   "source": [
    "from sklearn import metrics\n",
    "print('Mean Absolute Error:', metrics.mean_absolute_error(newTestY, newy_predict))"
   ]
  },
  {
   "cell_type": "code",
   "execution_count": null,
   "id": "33d5d7de-a9bf-4500-b010-b44f13e3058e",
   "metadata": {},
   "outputs": [
    {
     "data": {
      "image/png": "[encoded data removed]",
      "text/plain": [
       "<Figure size 640x480 with 1 Axes>"
      ]
     },
     "metadata": {},
     "output_type": "display_data"
    }
   ],
   "source": [
    "import matplotlib.pyplot as plt\n",
    "import matplotlib.ticker as ticker\n",
    "\n",
    "x_range = range(1, len(newTestY) + 1)\n",
    "\n",
    "fig, ax = plt.subplots()\n",
    "ax.plot(x_range, newTestY, color='cornflowerblue', linestyle='-', label='Dados Reais')\n",
    "ax.plot(x_range, newy_predict, color='red', linestyle='-', label='Previsão')\n",
    "\n",
    "ax.xaxis.set_major_locator(ticker.MaxNLocator(integer=True))\n",
    "\n",
    "plt.xlabel('Tempo (dias)')\n",
    "plt.ylabel('Velocidade do vento (m/s)')\n",
    "plt.legend()\n",
    "plt.show()"
   ]
  },
  {
   "cell_type": "code",
   "execution_count": 11,
   "id": "91f6ed75-4057-431c-8834-ed7618d8b405",
   "metadata": {},
   "outputs": [
    {
     "data": {
      "text/plain": [
       "array([[2.6 ],\n",
       "       [2.45],\n",
       "       [2.  ],\n",
       "       [2.09],\n",
       "       [2.48]])"
      ]
     },
     "execution_count": 11,
     "metadata": {},
     "output_type": "execute_result"
    }
   ],
   "source": [
    "newTestY"
   ]
  },
  {
   "cell_type": "code",
   "execution_count": 12,
   "id": "13535aa4-b5c8-463c-aa14-67d35e0611be",
   "metadata": {},
   "outputs": [
    {
     "data": {
      "text/plain": [
       "array([[2.4368222],\n",
       "       [2.7230551],\n",
       "       [1.8437388],\n",
       "       [2.043999 ],\n",
       "       [2.3359363]], dtype=float32)"
      ]
     },
     "execution_count": 12,
     "metadata": {},
     "output_type": "execute_result"
    }
   ],
   "source": [
    "newy_predict"
   ]
  },
  {
   "cell_type": "code",
   "execution_count": null,
   "id": "b5f13700-4628-41b4-bd8b-a3d8185acee2",
   "metadata": {},
   "outputs": [
    {
     "data": {
      "image/png": "[encoded data removed]",
      "text/plain": [
       "<Figure size 640x480 with 1 Axes>"
      ]
     },
     "metadata": {},
     "output_type": "display_data"
    }
   ],
   "source": [
    "import matplotlib.pyplot as plt\n",
    "\n",
    "epochs_adjusted = [epoch + 1 for epoch in fitting.epoch]\n",
    "\n",
    "plt.plot(epochs_adjusted, fitting.history.get('loss'), color='cornflowerblue', linestyle='-', label='loss')\n",
    "plt.plot(epochs_adjusted, fitting.history.get('val_loss'), color='red', linestyle='-', label='val_loss')\n",
    "plt.title('MAE')\n",
    "plt.xlabel('Épocas')  \n",
    "plt.legend()\n",
    "plt.show()"
   ]
  },
  {
   "cell_type": "code",
   "execution_count": 14,
   "id": "82cd1f33-fce5-4ee2-aa29-7caa62c625be",
   "metadata": {},
   "outputs": [
    {
     "name": "stdout",
     "output_type": "stream",
     "text": [
      "[0.12629711627960205, 0.07375252991914749, 0.0567903034389019, 0.045530546456575394, 0.049577388912439346, 0.05037539079785347, 0.060714419931173325, 0.0456862598657608, 0.04087261110544205, 0.03934840112924576, 0.03796391561627388, 0.03799869120121002, 0.038333773612976074, 0.03786146640777588, 0.03915391489863396, 0.03761749714612961, 0.037322036921978, 0.037105076014995575, 0.03817790374159813, 0.037599217146635056, 0.03659920021891594, 0.036483652889728546, 0.03653467446565628, 0.036419954150915146, 0.03622197359800339, 0.03624407574534416, 0.03621385991573334, 0.03620301932096481, 0.03620285913348198, 0.03620287403464317]\n"
     ]
    }
   ],
   "source": [
    "print(fitting.history.get('loss'))"
   ]
  },
  {
   "cell_type": "code",
   "execution_count": 15,
   "id": "3698340e-6480-4c8c-ae9f-4550ee1a78c6",
   "metadata": {},
   "outputs": [
    {
     "data": {
      "text/plain": [
       "[0.17304997146129608,\n",
       " 0.06641475111246109,\n",
       " 0.04995062202215195,\n",
       " 0.04551653936505318,\n",
       " 0.04006107151508331,\n",
       " 0.04794853925704956,\n",
       " 0.0414128378033638,\n",
       " 0.050231922417879105,\n",
       " 0.04337572678923607,\n",
       " 0.03862658515572548,\n",
       " 0.03733811154961586,\n",
       " 0.037368401885032654,\n",
       " 0.03643001988530159,\n",
       " 0.040197741240262985,\n",
       " 0.035937704145908356,\n",
       " 0.03647661954164505,\n",
       " 0.03572031110525131,\n",
       " 0.03713025152683258,\n",
       " 0.036477528512477875,\n",
       " 0.03591626510024071,\n",
       " 0.0356021523475647,\n",
       " 0.035594698041677475,\n",
       " 0.03567305952310562,\n",
       " 0.03552023321390152,\n",
       " 0.03553204983472824,\n",
       " 0.03552168235182762,\n",
       " 0.035524751991033554,\n",
       " 0.0355251207947731,\n",
       " 0.035521768033504486,\n",
       " 0.03552132844924927]"
      ]
     },
     "execution_count": 15,
     "metadata": {},
     "output_type": "execute_result"
    }
   ],
   "source": [
    "fitting.history.get('val_loss')"
   ]
  }
 ],
 "metadata": {
  "kernelspec": {
   "display_name": "Python 3 (ipykernel)",
   "language": "python",
   "name": "python3"
  },
  "language_info": {
   "codemirror_mode": {
    "name": "ipython",
    "version": 3
   },
   "file_extension": ".py",
   "mimetype": "text/x-python",
   "name": "python",
   "nbconvert_exporter": "python",
   "pygments_lexer": "ipython3",
   "version": "3.9.7"
  }
 },
 "nbformat": 4,
 "nbformat_minor": 5
}
