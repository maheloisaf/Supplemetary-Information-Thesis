{
 "cells": [
  {
   "cell_type": "code",
   "execution_count": null,
   "id": "27a61256-82b6-4b98-9bed-34bcfdb8e98d",
   "metadata": {},
   "outputs": [],
   "source": [
    "import pandas as pd \n",
    "import pennylane.numpy as np \n",
    "import pennylane as qml \n",
    "\n",
    "\n",
    "from silence_tensorflow import silence_tensorflow \n",
    "silence_tensorflow() \n",
    "import tensorflow as tf \n",
    "\n",
    "from tensorflow.keras.models import Sequential \n",
    "from tensorflow.keras.layers import Dense, Activation\n",
    "from tensorflow.keras import optimizers\n",
    "from tensorflow.keras import activations\n",
    "from tensorflow.keras.callbacks import EarlyStopping\n",
    "from tensorflow.keras.callbacks import ReduceLROnPlateau\n",
    "from sklearn.model_selection import train_test_split\n",
    "from sklearn.preprocessing import StandardScaler, MinMaxScaler"
   ]
  },
  {
   "cell_type": "code",
   "execution_count": null,
   "id": "cbddcd74-1672-4727-92f7-d8c64c8a859b",
   "metadata": {},
   "outputs": [
    {
     "name": "stdout",
     "output_type": "stream",
     "text": [
      "Len(Train): 352\n",
      "Len(Test): 14\n"
     ]
    }
   ],
   "source": [
    "dataframe = pd.read_csv(r'temp.csv')\n",
    "dataset = dataframe.values\n",
    "\n",
    "\n",
    "X=dataset[:,3:]\n",
    "Y=dataset[:,2:3]\n",
    "\n",
    "scaler = MinMaxScaler()\n",
    "StdScaler=scaler.fit(X)\n",
    "X=scaler.transform(X)\n",
    "\n",
    "scaler = MinMaxScaler()\n",
    "StdScaler2=scaler.fit(Y)\n",
    "Y=scaler.transform(Y)\n",
    "\n",
    "months = len(Y)\n",
    "TRAIN_TEST_SPLIT = 0.962\n",
    "\n",
    "split = split = int(months * TRAIN_TEST_SPLIT)\n",
    "TrainX = X[0:split]\n",
    "TestX = X[split:]\n",
    "\n",
    "TrainY = Y[0:split]\n",
    "TestY = Y[split:]\n",
    "\n",
    "\n",
    "print(\"Len(Train):\",len(TrainX))\n",
    "print(\"Len(Test):\",len(TestX))"
   ]
  },
  {
   "cell_type": "code",
   "execution_count": null,
   "id": "f4bf580c-37a0-48a3-97a5-8618b7b43b6b",
   "metadata": {},
   "outputs": [],
   "source": [
    "def H_layer(n_qubits):\n",
    "    for idx in range(n_qubits):\n",
    "        qml.Hadamard(wires=idx)\n",
    "\n",
    "def Data_AngleEmbedding_layer(inputs):\n",
    "    qml.templates.AngleEmbedding(inputs,rotation='Y', wires=range(n_qubits))\n",
    "\n",
    "def RY_layer(w):\n",
    "    print(w.shape)\n",
    "    for idx, element in enumerate(w):\n",
    "        qml.RY(element, wires=idx)\n",
    "\n",
    "def ROT_layer(w):\n",
    "    for i in range(n_qubits):\n",
    "        qml.Rot(*w[i],wires=i)\n",
    "    \n",
    "def entangling_layer(nqubits):\n",
    "    for i in range(0, nqubits - 1, 2): \n",
    "        qml.CNOT(wires=[i, i + 1])\n",
    "    for i in range(1, nqubits - 1, 2):  \n",
    "        qml.CNOT(wires=[i, i + 1])"
   ]
  },
  {
   "cell_type": "code",
   "execution_count": 4,
   "id": "b27f73f6-fd74-4535-af8c-2ec1e66b0872",
   "metadata": {},
   "outputs": [],
   "source": [
    "n_qubits = 6\n",
    "n_layers = 1\n",
    "\n",
    "dev = qml.device('default.qubit', wires=n_qubits)\n",
    "@qml.qnode(dev)\n",
    "def qnode(inputs, weights_1):\n",
    "    H_layer(n_qubits)\n",
    "    Data_AngleEmbedding_layer(inputs)\n",
    "    for k in range(n_layers):\n",
    "        entangling_layer(n_qubits)\n",
    "        ROT_layer(weights_1[k])\n",
    "    return [qml.expval(qml.PauliZ(wires=i)) for i in range(n_qubits)]"
   ]
  },
  {
   "cell_type": "code",
   "execution_count": 5,
   "id": "c2e3ed04-d20e-443f-95af-89449cf0b2d8",
   "metadata": {},
   "outputs": [],
   "source": [
    "weight_shapes = {\"weights_1\": (n_layers,n_qubits,3)}\n",
    "qlayer = qml.qnn.KerasLayer(qnode, weight_shapes, output_dim=n_qubits)\n",
    "Activation=tf.keras.layers.Activation(activations.linear)\n",
    "clayer_2 = tf.keras.layers.Dense(1,kernel_initializer='normal')\n",
    "model = tf.keras.models.Sequential([qlayer,Activation, clayer_2])\n",
    "opt = tf.keras.optimizers.Adam(learning_rate=0.1)\n",
    "model.compile(opt, loss=\"mae\")"
   ]
  },
  {
   "cell_type": "code",
   "execution_count": null,
   "id": "389970c3-cd97-45c7-ba78-fe085c27e337",
   "metadata": {},
   "outputs": [
    {
     "name": "stdout",
     "output_type": "stream",
     "text": [
      "Epoch 1/30\n",
      "32/32 [==============================] - 7s 185ms/step - loss: 0.1347 - val_loss: 0.0641 - lr: 0.1000\n",
      "Epoch 2/30\n",
      "32/32 [==============================] - 6s 175ms/step - loss: 0.0527 - val_loss: 0.0396 - lr: 0.1000\n",
      "Epoch 3/30\n",
      "32/32 [==============================] - 6s 193ms/step - loss: 0.0463 - val_loss: 0.0448 - lr: 0.1000\n",
      "Epoch 4/30\n",
      "32/32 [==============================] - 6s 175ms/step - loss: 0.0420 - val_loss: 0.0444 - lr: 0.1000\n",
      "Epoch 5/30\n",
      "32/32 [==============================] - 5s 164ms/step - loss: 0.0418 - val_loss: 0.0294 - lr: 0.1000\n",
      "Epoch 6/30\n",
      "32/32 [==============================] - 6s 195ms/step - loss: 0.0335 - val_loss: 0.0303 - lr: 0.1000\n",
      "Epoch 7/30\n",
      "32/32 [==============================] - 5s 161ms/step - loss: 0.0365 - val_loss: 0.0321 - lr: 0.1000\n",
      "Epoch 8/30\n",
      "32/32 [==============================] - ETA: 0s - loss: 0.0316\n",
      "Epoch 8: ReduceLROnPlateau reducing learning rate to 0.010000000149011612.\n",
      "32/32 [==============================] - 5s 163ms/step - loss: 0.0316 - val_loss: 0.0427 - lr: 0.1000\n",
      "Epoch 9/30\n",
      "32/32 [==============================] - 5s 171ms/step - loss: 0.0286 - val_loss: 0.0259 - lr: 0.0100\n",
      "Epoch 10/30\n",
      "32/32 [==============================] - 6s 194ms/step - loss: 0.0283 - val_loss: 0.0312 - lr: 0.0100\n",
      "Epoch 11/30\n",
      "32/32 [==============================] - 5s 163ms/step - loss: 0.0259 - val_loss: 0.0311 - lr: 0.0100\n",
      "Epoch 12/30\n",
      "32/32 [==============================] - ETA: 0s - loss: 0.0263\n",
      "Epoch 12: ReduceLROnPlateau reducing learning rate to 0.0009999999776482583.\n",
      "32/32 [==============================] - 6s 176ms/step - loss: 0.0263 - val_loss: 0.0369 - lr: 0.0100\n",
      "Epoch 13/30\n",
      "32/32 [==============================] - 5s 162ms/step - loss: 0.0257 - val_loss: 0.0321 - lr: 1.0000e-03\n",
      "Epoch 14/30\n",
      "32/32 [==============================] - 5s 161ms/step - loss: 0.0253 - val_loss: 0.0319 - lr: 1.0000e-03\n",
      "Epoch 15/30\n",
      "32/32 [==============================] - ETA: 0s - loss: 0.0253\n",
      "Epoch 15: ReduceLROnPlateau reducing learning rate to 9.999999310821295e-05.\n",
      "32/32 [==============================] - 5s 162ms/step - loss: 0.0253 - val_loss: 0.0328 - lr: 1.0000e-03\n",
      "Epoch 16/30\n",
      "32/32 [==============================] - 5s 161ms/step - loss: 0.0252 - val_loss: 0.0325 - lr: 1.0000e-04\n",
      "Epoch 17/30\n",
      "32/32 [==============================] - 5s 162ms/step - loss: 0.0251 - val_loss: 0.0321 - lr: 1.0000e-04\n",
      "Epoch 18/30\n",
      "32/32 [==============================] - ETA: 0s - loss: 0.0251\n",
      "Epoch 18: ReduceLROnPlateau reducing learning rate to 1e-05.\n",
      "32/32 [==============================] - 5s 162ms/step - loss: 0.0251 - val_loss: 0.0320 - lr: 1.0000e-04\n",
      "Epoch 19/30\n",
      "32/32 [==============================] - 5s 163ms/step - loss: 0.0251 - val_loss: 0.0320 - lr: 1.0000e-05\n",
      "Epoch 20/30\n",
      "32/32 [==============================] - 5s 164ms/step - loss: 0.0251 - val_loss: 0.0321 - lr: 1.0000e-05\n",
      "Epoch 21/30\n",
      "32/32 [==============================] - 5s 165ms/step - loss: 0.0251 - val_loss: 0.0320 - lr: 1.0000e-05\n",
      "Epoch 22/30\n",
      "32/32 [==============================] - 5s 162ms/step - loss: 0.0251 - val_loss: 0.0321 - lr: 1.0000e-05\n",
      "Epoch 23/30\n",
      "32/32 [==============================] - 5s 164ms/step - loss: 0.0251 - val_loss: 0.0321 - lr: 1.0000e-05\n",
      "Epoch 24/30\n",
      "32/32 [==============================] - 5s 159ms/step - loss: 0.0251 - val_loss: 0.0321 - lr: 1.0000e-05\n",
      "Epoch 25/30\n",
      "32/32 [==============================] - 5s 164ms/step - loss: 0.0251 - val_loss: 0.0321 - lr: 1.0000e-05\n",
      "Epoch 26/30\n",
      "32/32 [==============================] - 5s 164ms/step - loss: 0.0251 - val_loss: 0.0321 - lr: 1.0000e-05\n",
      "Epoch 27/30\n",
      "32/32 [==============================] - 5s 164ms/step - loss: 0.0251 - val_loss: 0.0321 - lr: 1.0000e-05\n",
      "Epoch 28/30\n",
      "32/32 [==============================] - 5s 165ms/step - loss: 0.0251 - val_loss: 0.0320 - lr: 1.0000e-05\n",
      "Epoch 29/30\n",
      "32/32 [==============================] - 5s 163ms/step - loss: 0.0251 - val_loss: 0.0321 - lr: 1.0000e-05\n",
      "Epoch 30/30\n",
      "32/32 [==============================] - 5s 163ms/step - loss: 0.0251 - val_loss: 0.0321 - lr: 1.0000e-05\n"
     ]
    }
   ],
   "source": [
    "es=EarlyStopping(monitor='val_loss', min_delta=0, patience=6, verbose=1, mode='auto', baseline=None, restore_best_weights=True)\n",
    "re=ReduceLROnPlateau(monitor='val_loss', factor=0.1, patience=3, verbose=1, mode='min', min_lr=0.00001)\n",
    "fitting = model.fit(TrainX, TrainY, epochs=30, batch_size=10, validation_split=0.1, callbacks=[re], verbose=1)"
   ]
  },
  {
   "cell_type": "code",
   "execution_count": 7,
   "id": "dede62fc-d7ce-46e7-bbc0-40aa10ce873a",
   "metadata": {},
   "outputs": [
    {
     "name": "stdout",
     "output_type": "stream",
     "text": [
      "1/1 [==============================] - 0s 134ms/step\n"
     ]
    }
   ],
   "source": [
    "y_predict=model.predict(TestX,verbose=1)\n",
    "y_predict=y_predict.T\n",
    "y_predict=y_predict[0]"
   ]
  },
  {
   "cell_type": "code",
   "execution_count": 8,
   "id": "c6be621b-d828-484f-9b95-a8f007c4eb0f",
   "metadata": {},
   "outputs": [],
   "source": [
    "newTestY = scaler.inverse_transform(TestY)\n",
    "newy_predict = scaler.inverse_transform(y_predict.reshape(-1, 1))"
   ]
  },
  {
   "cell_type": "code",
   "execution_count": 9,
   "id": "56984318-27cc-4979-a48d-322f27ab8744",
   "metadata": {},
   "outputs": [
    {
     "name": "stdout",
     "output_type": "stream",
     "text": [
      "Mean Absolute Error: 0.38998849596295976\n"
     ]
    }
   ],
   "source": [
    "from sklearn import metrics\n",
    "print('Mean Absolute Error:', metrics.mean_absolute_error(newTestY, newy_predict))"
   ]
  },
  {
   "cell_type": "code",
   "execution_count": null,
   "id": "33d5d7de-a9bf-4500-b010-b44f13e3058e",
   "metadata": {},
   "outputs": [
    {
     "data": {
      "image/png": "[encoded data removed]",
      "text/plain": [
       "<Figure size 640x480 with 1 Axes>"
      ]
     },
     "metadata": {},
     "output_type": "display_data"
    }
   ],
   "source": [
    "import matplotlib.pyplot as plt\n",
    "\n",
    "x_range = range(1, len(newTestY) + 1)\n",
    "\n",
    "plt.plot(x_range, newTestY, color='cornflowerblue', linestyle='-', label='Dados Reais')\n",
    "plt.plot(x_range, newy_predict, color='red', linestyle='-', label='Previsão')\n",
    "plt.xlabel('Tempo (dias)')\n",
    "plt.ylabel('Temperatura (ºC)')\n",
    "plt.legend()\n",
    "plt.show()"
   ]
  },
  {
   "cell_type": "code",
   "execution_count": 11,
   "id": "91f6ed75-4057-431c-8834-ed7618d8b405",
   "metadata": {},
   "outputs": [
    {
     "data": {
      "text/plain": [
       "array([[26.84],\n",
       "       [26.69],\n",
       "       [27.41],\n",
       "       [27.24],\n",
       "       [26.86],\n",
       "       [27.23],\n",
       "       [27.33],\n",
       "       [27.98],\n",
       "       [28.44],\n",
       "       [27.73],\n",
       "       [26.42],\n",
       "       [27.26],\n",
       "       [27.41],\n",
       "       [26.88]])"
      ]
     },
     "execution_count": 11,
     "metadata": {},
     "output_type": "execute_result"
    }
   ],
   "source": [
    "newTestY"
   ]
  },
  {
   "cell_type": "code",
   "execution_count": 12,
   "id": "13535aa4-b5c8-463c-aa14-67d35e0611be",
   "metadata": {},
   "outputs": [
    {
     "data": {
      "text/plain": [
       "array([[27.175447],\n",
       "       [26.786121],\n",
       "       [27.142483],\n",
       "       [27.121885],\n",
       "       [27.1388  ],\n",
       "       [27.596764],\n",
       "       [27.415846],\n",
       "       [28.13339 ],\n",
       "       [28.92229 ],\n",
       "       [28.522411],\n",
       "       [27.463717],\n",
       "       [28.26262 ],\n",
       "       [27.766502],\n",
       "       [26.960297]], dtype=float32)"
      ]
     },
     "execution_count": 12,
     "metadata": {},
     "output_type": "execute_result"
    }
   ],
   "source": [
    "newy_predict"
   ]
  },
  {
   "cell_type": "code",
   "execution_count": null,
   "id": "b5f13700-4628-41b4-bd8b-a3d8185acee2",
   "metadata": {},
   "outputs": [
    {
     "data": {
      "image/png": "[encoded data removed]",
      "text/plain": [
       "<Figure size 640x480 with 1 Axes>"
      ]
     },
     "metadata": {},
     "output_type": "display_data"
    }
   ],
   "source": [
    "import matplotlib.pyplot as plt\n",
    "\n",
    "epochs_adjusted = [epoch + 1 for epoch in fitting.epoch]\n",
    "\n",
    "plt.plot(epochs_adjusted, fitting.history.get('loss'), color='cornflowerblue', linestyle='-', label='loss')\n",
    "plt.plot(epochs_adjusted, fitting.history.get('val_loss'), color='red', linestyle='-', label='val_loss')\n",
    "plt.title('MAE')\n",
    "plt.xlabel('Épocas') \n",
    "plt.legend()\n",
    "plt.show()"
   ]
  },
  {
   "cell_type": "code",
   "execution_count": 14,
   "id": "82cd1f33-fce5-4ee2-aa29-7caa62c625be",
   "metadata": {},
   "outputs": [
    {
     "name": "stdout",
     "output_type": "stream",
     "text": [
      "[0.1347171515226364, 0.05271170288324356, 0.0463455431163311, 0.04196886718273163, 0.041770413517951965, 0.033499378710985184, 0.036503251641988754, 0.031551577150821686, 0.028554808348417282, 0.02827858366072178, 0.025878408923745155, 0.026302605867385864, 0.025695689022541046, 0.02534869872033596, 0.02534468285739422, 0.025153879076242447, 0.02511526830494404, 0.025088727474212646, 0.025066236034035683, 0.025066586211323738, 0.025066230446100235, 0.025065045803785324, 0.025064146146178246, 0.02506430260837078, 0.02506459876894951, 0.025065351277589798, 0.02506304159760475, 0.0250640120357275, 0.02506140246987343, 0.025060998275876045]\n"
     ]
    }
   ],
   "source": [
    "print(fitting.history.get('loss'))"
   ]
  },
  {
   "cell_type": "code",
   "execution_count": 15,
   "id": "3698340e-6480-4c8c-ae9f-4550ee1a78c6",
   "metadata": {},
   "outputs": [
    {
     "data": {
      "text/plain": [
       "[0.06414654850959778,\n",
       " 0.039571817964315414,\n",
       " 0.0447600781917572,\n",
       " 0.044387783855199814,\n",
       " 0.029357722029089928,\n",
       " 0.030331164598464966,\n",
       " 0.03206294775009155,\n",
       " 0.04266759380698204,\n",
       " 0.02585967630147934,\n",
       " 0.031189879402518272,\n",
       " 0.031145058572292328,\n",
       " 0.03689207136631012,\n",
       " 0.032054100185632706,\n",
       " 0.031947627663612366,\n",
       " 0.03282259404659271,\n",
       " 0.03252536803483963,\n",
       " 0.032061416655778885,\n",
       " 0.03204383701086044,\n",
       " 0.03204559534788132,\n",
       " 0.03205001726746559,\n",
       " 0.03203561529517174,\n",
       " 0.03205939009785652,\n",
       " 0.03205440565943718,\n",
       " 0.03205164521932602,\n",
       " 0.032058604061603546,\n",
       " 0.03205205500125885,\n",
       " 0.03205270692706108,\n",
       " 0.03204882889986038,\n",
       " 0.03206568583846092,\n",
       " 0.03207022324204445]"
      ]
     },
     "execution_count": 15,
     "metadata": {},
     "output_type": "execute_result"
    }
   ],
   "source": [
    "fitting.history.get('val_loss')"
   ]
  }
 ],
 "metadata": {
  "kernelspec": {
   "display_name": "Python 3 (ipykernel)",
   "language": "python",
   "name": "python3"
  },
  "language_info": {
   "codemirror_mode": {
    "name": "ipython",
    "version": 3
   },
   "file_extension": ".py",
   "mimetype": "text/x-python",
   "name": "python",
   "nbconvert_exporter": "python",
   "pygments_lexer": "ipython3",
   "version": "3.9.7"
  }
 },
 "nbformat": 4,
 "nbformat_minor": 5
}
